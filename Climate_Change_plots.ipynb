{
 "cells": [
  {
   "cell_type": "markdown",
   "metadata": {},
   "source": [
    "# Climate Change Analysis \n",
    "This is a Data Analysis Notebook to explore the data from [Kaggle](https://www.kaggle.com/berkeleyearth/climate-change-earth-surface-temperature-data/data#) on \n",
    "\"Climate Change: Earth Surface Temperature Data Exploring global temperatures since 1750\". \n",
    "\n",
    "First you have to download the the data containing the following files: \n",
    "\n",
    "- GlobalLandTemperaturesByCity.csv\t\n",
    "- GlobalLandTemperaturesByMajorCity.csv\t\n",
    "- GlobalTemperatures.csv\n",
    "- GlobalLandTemperaturesByCountry.csv\t\n",
    "- GlobalLandTemperaturesByState.csv"
   ]
  },
  {
   "cell_type": "code",
   "execution_count": 71,
   "metadata": {},
   "outputs": [],
   "source": [
    "# Import Libraries \n",
    "import numpy as np \n",
    "import pandas as pd \n",
    "import os \n",
    "import glob\n",
    "import matplotlib.pyplot as plt \n",
    "import scipy.stats as stats\n",
    "from datetime import datetime\n",
    "from statsmodels.tsa.seasonal import seasonal_decompose\n",
    "def datetime(x):\n",
    "    return np.array(x, dtype=np.datetime64)\n",
    "def runmean(x,N):\n",
    "    return np.convolve(x, np.ones((N,))/N, mode='valid')\n",
    "\n",
    "\n",
    "\n",
    "\n",
    "def plots_stats(df, city=\"Hanoi\"):\n",
    "    \n",
    "    \n",
    "\n",
    "\n",
    "    df['AverageTemperature'].fillna(df.AverageTemperature.mean(), inplace=True)\n",
    "    \n",
    "    df_1800 = df[(datetime(df.dt) > datetime('1810-01-01')) & (datetime(df.dt) < datetime('1910-01-01'))]\n",
    "    df_1900 = df[(datetime(df.dt) > datetime('1910-01-01'))& (datetime(df.dt) < datetime('2010-01-01'))]\n",
    "    x_1800_1 = df_1800[df_1800.City == city]\n",
    "    x_1900_1 = df_1900[df_1900.City == city]\n",
    "    x_1800 = df_1800[df_1800.City == city].AverageTemperature\n",
    "    x_1900 = df_1900[df_1900.City == city].AverageTemperature    \n",
    "    plt.subplot(2, 1,1)\n",
    "    xx_1800 = seasonal_decompose(x_1800, model='additive',filt=None, period=100)\n",
    "    plt.plot(datetime(df_1800.dt[xx_1800.trend.index]),xx_1800.trend ,color='blue');\n",
    "    xx_1900 = seasonal_decompose(x_1900, model='additive',filt=None, period=100)\n",
    "    plt.plot(datetime(df_1900.dt[xx_1900.trend.index]),xx_1900.trend ,color='red');\n",
    "    \n",
    "    plt.subplot(2, 1,2)\n",
    "    n, x, _ = plt.hist(xx_1800.trend, density=True, alpha=.6, color='blue', label='1810--1910')  \n",
    "    #plt.plot(x, density(x), alpha=.3, color=\"blue\")\n",
    "    x1 = x[1:]\n",
    "    # find the mode of the first histogram\n",
    "\n",
    "    dx = (x1.max()-x1.min())/20\n",
    "    maxx = x1[ n == n.max()]-dx\n",
    "    plt.axvline(x1[ n == n.max()]-dx,color='k')\n",
    "    n, x, _ = plt.hist(xx_1900.trend, density=True, alpha=.6, color='red', label='1910--1910')  \n",
    "    plt.legend()\n",
    "    #\n",
    "    print(\"this much of the recent climate is greater than the past climate : \",(xx_1900.trend > maxx[0]).sum() / xx_1900.trend.shape[0])\n",
    "    #\n",
    "    \n",
    "    "
   ]
  },
  {
   "cell_type": "raw",
   "metadata": {},
   "source": [
    "# First see which data are available:\n",
    "glob.glob('./*.csv')"
   ]
  },
  {
   "cell_type": "code",
   "execution_count": 61,
   "metadata": {},
   "outputs": [
    {
     "data": {
      "text/html": [
       "<div>\n",
       "<style scoped>\n",
       "    .dataframe tbody tr th:only-of-type {\n",
       "        vertical-align: middle;\n",
       "    }\n",
       "\n",
       "    .dataframe tbody tr th {\n",
       "        vertical-align: top;\n",
       "    }\n",
       "\n",
       "    .dataframe thead th {\n",
       "        text-align: right;\n",
       "    }\n",
       "</style>\n",
       "<table border=\"1\" class=\"dataframe\">\n",
       "  <thead>\n",
       "    <tr style=\"text-align: right;\">\n",
       "      <th></th>\n",
       "      <th>dt</th>\n",
       "      <th>AverageTemperature</th>\n",
       "      <th>AverageTemperatureUncertainty</th>\n",
       "      <th>City</th>\n",
       "      <th>Country</th>\n",
       "      <th>Latitude</th>\n",
       "      <th>Longitude</th>\n",
       "    </tr>\n",
       "  </thead>\n",
       "  <tbody>\n",
       "    <tr>\n",
       "      <th>0</th>\n",
       "      <td>1743-11-01</td>\n",
       "      <td>6.068</td>\n",
       "      <td>1.737</td>\n",
       "      <td>Århus</td>\n",
       "      <td>Denmark</td>\n",
       "      <td>57.05N</td>\n",
       "      <td>10.33E</td>\n",
       "    </tr>\n",
       "    <tr>\n",
       "      <th>1</th>\n",
       "      <td>1743-12-01</td>\n",
       "      <td>NaN</td>\n",
       "      <td>NaN</td>\n",
       "      <td>Århus</td>\n",
       "      <td>Denmark</td>\n",
       "      <td>57.05N</td>\n",
       "      <td>10.33E</td>\n",
       "    </tr>\n",
       "    <tr>\n",
       "      <th>2</th>\n",
       "      <td>1744-01-01</td>\n",
       "      <td>NaN</td>\n",
       "      <td>NaN</td>\n",
       "      <td>Århus</td>\n",
       "      <td>Denmark</td>\n",
       "      <td>57.05N</td>\n",
       "      <td>10.33E</td>\n",
       "    </tr>\n",
       "    <tr>\n",
       "      <th>3</th>\n",
       "      <td>1744-02-01</td>\n",
       "      <td>NaN</td>\n",
       "      <td>NaN</td>\n",
       "      <td>Århus</td>\n",
       "      <td>Denmark</td>\n",
       "      <td>57.05N</td>\n",
       "      <td>10.33E</td>\n",
       "    </tr>\n",
       "    <tr>\n",
       "      <th>4</th>\n",
       "      <td>1744-03-01</td>\n",
       "      <td>NaN</td>\n",
       "      <td>NaN</td>\n",
       "      <td>Århus</td>\n",
       "      <td>Denmark</td>\n",
       "      <td>57.05N</td>\n",
       "      <td>10.33E</td>\n",
       "    </tr>\n",
       "  </tbody>\n",
       "</table>\n",
       "</div>"
      ],
      "text/plain": [
       "           dt  AverageTemperature  AverageTemperatureUncertainty   City  \\\n",
       "0  1743-11-01               6.068                          1.737  Århus   \n",
       "1  1743-12-01                 NaN                            NaN  Århus   \n",
       "2  1744-01-01                 NaN                            NaN  Århus   \n",
       "3  1744-02-01                 NaN                            NaN  Århus   \n",
       "4  1744-03-01                 NaN                            NaN  Århus   \n",
       "\n",
       "   Country Latitude Longitude  \n",
       "0  Denmark   57.05N    10.33E  \n",
       "1  Denmark   57.05N    10.33E  \n",
       "2  Denmark   57.05N    10.33E  \n",
       "3  Denmark   57.05N    10.33E  \n",
       "4  Denmark   57.05N    10.33E  "
      ]
     },
     "execution_count": 61,
     "metadata": {},
     "output_type": "execute_result"
    }
   ],
   "source": [
    "#read the GlobalLandTemperaturesByCity.csv\n",
    "temp_land_cities = pd.read_csv('GlobalLandTemperaturesByCity.csv')\n",
    "global_t = pd.read_csv('GlobalTemperatures.csv')\n",
    "# a quick look in the data : \n",
    "temp_land_cities.head()"
   ]
  },
  {
   "cell_type": "code",
   "execution_count": 62,
   "metadata": {},
   "outputs": [
    {
     "data": {
      "text/plain": [
       "dt                               0.000000\n",
       "AverageTemperature               4.234458\n",
       "AverageTemperatureUncertainty    4.234458\n",
       "City                             0.000000\n",
       "Country                          0.000000\n",
       "Latitude                         0.000000\n",
       "Longitude                        0.000000\n",
       "dtype: float64"
      ]
     },
     "execution_count": 62,
     "metadata": {},
     "output_type": "execute_result"
    }
   ],
   "source": [
    "#number of nans in percent:\n",
    "(temp_land_cities.isnull().sum(axis = 0) / temp_land_cities.shape[0] )*100"
   ]
  },
  {
   "cell_type": "code",
   "execution_count": 63,
   "metadata": {},
   "outputs": [],
   "source": [
    "# Good to know that there are many countries that have cities with the same name like La Paz in Mexico \n",
    "# and La Paz in Bolivia therefore I write a function to get read of this problem \n",
    "def correct_cities(df):\n",
    "   \n",
    "\n",
    "\n",
    "    df['AverageTemperature'].fillna(df.AverageTemperature.mean(), inplace=True)\n",
    "    \n",
    "\n",
    "    import time\n",
    "    import sys\n",
    "\n",
    "    toolbar_width = len(set(df.City))\n",
    "\n",
    "    # setup toolbar\n",
    "    sys.stdout.write(\"[%s]\" % (\" \" * toolbar_width))\n",
    "    sys.stdout.flush()\n",
    "    sys.stdout.write(\"\\b\" * (toolbar_width+1)) # return to start of line, after '['\n",
    "    for city in set(df.City):\n",
    "        dff = df[df.City == city]\n",
    "        if len(set(dff.Country)) > 1 :\n",
    "            \n",
    "            for con in set(dff.Country):\n",
    "                #print(city+\"_\"+con)\n",
    "                df['City'].loc[(df.City == city) & (df.Country == con)] = city+\"_\"+con\n",
    "        sys.stdout.write(\"-\")\n",
    "        sys.stdout.flush()\n",
    "\n",
    "    sys.stdout.write(\"]\\n\") # this ends the progress bar\n",
    "    \n",
    "    return dff\n",
    "                \n"
   ]
  },
  {
   "cell_type": "code",
   "execution_count": 64,
   "metadata": {},
   "outputs": [],
   "source": [
    "#df = temp_land_cities.copy()\n",
    "#df_cor = correct_cities(df)\n",
    "#df.to_csv('df_cor.csv')\n"
   ]
  },
  {
   "cell_type": "code",
   "execution_count": 65,
   "metadata": {},
   "outputs": [],
   "source": [
    "df = pd.read_csv('df_cor_t.csv')"
   ]
  },
  {
   "cell_type": "code",
   "execution_count": null,
   "metadata": {},
   "outputs": [],
   "source": []
  },
  {
   "cell_type": "code",
   "execution_count": null,
   "metadata": {},
   "outputs": [],
   "source": []
  },
  {
   "cell_type": "code",
   "execution_count": 124,
   "metadata": {},
   "outputs": [
    {
     "name": "stderr",
     "output_type": "stream",
     "text": [
      "/Users/bijanfallah/anaconda3/lib/python3.7/site-packages/numpy/lib/histograms.py:839: RuntimeWarning: invalid value encountered in greater_equal\n",
      "  keep = (tmp_a >= first_edge)\n",
      "/Users/bijanfallah/anaconda3/lib/python3.7/site-packages/numpy/lib/histograms.py:840: RuntimeWarning: invalid value encountered in less_equal\n",
      "  keep &= (tmp_a <= last_edge)\n"
     ]
    },
    {
     "name": "stdout",
     "output_type": "stream",
     "text": [
      "this much of the recent climate is greater than the past climate :  0.9165971643035863\n"
     ]
    },
    {
     "data": {
      "image/png": "[encoded data removed]",
      "text/plain": [
       "<Figure size 432x288 with 2 Axes>"
      ]
     },
     "metadata": {
      "needs_background": "light"
     },
     "output_type": "display_data"
    }
   ],
   "source": [
    "# A test plot for Berlin \n",
    "plots_stats(df, city=\"Boma\")"
   ]
  },
  {
   "cell_type": "markdown",
   "metadata": {},
   "source": [
    "## Climate shift: \n",
    "\n",
    "As it can be seen in the histograms of the trends for the two climatic period, the more recent one is shifted significantly to the right or warmer climate conditions for Berlin air temperature . Note the white space in the time-series plot (dicontinuity in the time-serie) is comming from filtering approach used. 91% of the new climate data is located to the right side of the climate mode for the 1810-1910 period. Mode is the most frequent temperature in the histogram. One could also use the mean but if you have outliers in the data the mean might be influenced. I will calculate this number (percent of the data located to the right side of the mode for the 1810-1910 period) for all cities around the world! \n",
    "\n",
    "\n",
    "\n",
    "\n"
   ]
  },
  {
   "cell_type": "code",
   "execution_count": 74,
   "metadata": {},
   "outputs": [],
   "source": [
    "#lets do the diff index to see how much of the recent climate 1910 to 2010 is on the right hand of the \n",
    "# past climate mode  (1810-1910)\n",
    "data_final = pd.DataFrame()\n",
    "data = []\n",
    "city_name = []\n",
    "index= []\n",
    "lati = []\n",
    "long = []\n",
    "k = 0\n",
    "\n",
    "\n",
    "#df['AverageTemperature'].replace(r'^\\s*$', np.nan, regex=True, inplace=True)    \n",
    "df['AverageTemperature'].fillna(df.AverageTemperature.mean(), inplace=True)\n",
    "\n",
    "df_1800 = df[(datetime(df.dt) > datetime('1810-01-01')) & (datetime(df.dt) < datetime('1910-01-01'))]\n",
    "df_1900 = df[(datetime(df.dt) > datetime('1910-01-01')) & (datetime(df.dt) < datetime('2010-01-01'))]\n",
    "\n",
    "\n",
    "for city in set(df.City) : \n",
    "    k+=1\n",
    "    index.append(k)\n",
    "    city_name.append(city)\n",
    "    \n",
    "    #print(city)\n",
    "    x_1800 = df_1800[df_1800.City == city].AverageTemperature\n",
    "    x_1900 = df_1900[df_1900.City == city].AverageTemperature\n",
    "  \n",
    "\n",
    "\n",
    "    #print((x_1900.isnull()==False).sum())\n",
    "    if (x_1900.isnull()==False).sum() < 1000 :\n",
    "        data.append(float('NaN'))\n",
    "        long.append(float('NaN'))\n",
    "        lati.append(float('NaN')) \n",
    "        continue\n",
    "    long.append(df_1800[df_1800.City == city].Longitude.values[0])\n",
    "    lati.append(df_1800[df_1800.City == city].Latitude.values[0])    \n",
    "    xx_1800 = seasonal_decompose(x_1800, model='additive',filt=None, period=100)\n",
    "    #plt.plot(datetime(df_1800.dt[xx_1800.trend.index]),xx_1800.trend ,color='blue');\n",
    "    xx_1900 = seasonal_decompose(x_1900, model='additive',filt=None, period=100)\n",
    "    #plt.plot(datetime(df_1900.dt[xx_1900.trend.index]),xx_1900.trend ,color='red');\n",
    "    n, x = np.histogram(xx_1800.trend[xx_1800.trend.isnull()==False],20)  \n",
    "    #plt.plot(x, density(x), alpha=.3, color=\"blue\")\n",
    "    x1 = x[1:]\n",
    "    # find the mode of the first histogram\n",
    "    dx = (x1.max()-x1.min())/20\n",
    "    maxx = x1[ n == n.max()]-dx\n",
    "    #plt.axvline(x1[ n == n.max()]-dx,color='k')\n",
    "    n, x = np.histogram(xx_1900.trend[xx_1900.trend.isnull()==False],20)  \n",
    "    #plt.plot(x, density(x), alpha=.3, color=\"red\")\n",
    "    \n",
    "    data.append((xx_1900.trend > maxx[0]).sum() / xx_1900.trend.shape[0])\n",
    "    \n",
    "# intialise data of lists. \n",
    "datas = {'City':city_name, 'val':data, 'lon':long, 'lat':lati} \n",
    "  \n",
    "# Create DataFrame \n",
    "df_final = pd.DataFrame(datas)     \n",
    "\n"
   ]
  },
  {
   "cell_type": "code",
   "execution_count": 143,
   "metadata": {},
   "outputs": [],
   "source": [
    "df_final.to_csv('df_final.csv')"
   ]
  },
  {
   "cell_type": "code",
   "execution_count": 81,
   "metadata": {},
   "outputs": [],
   "source": []
  },
  {
   "cell_type": "code",
   "execution_count": 87,
   "metadata": {},
   "outputs": [
    {
     "data": {
      "text/plain": [
       "array([0.91659716, 0.91659716, 0.91659716, 0.91659716, 0.91659716,\n",
       "       0.91659716, 0.91659716, 0.94912427, 0.95829858, 0.96969697])"
      ]
     },
     "execution_count": 87,
     "metadata": {},
     "output_type": "execute_result"
    }
   ],
   "source": [
    "f[-10:]"
   ]
  },
  {
   "cell_type": "code",
   "execution_count": 141,
   "metadata": {},
   "outputs": [
    {
     "name": "stdout",
     "output_type": "stream",
     "text": [
      "0.07839866555462886\n",
      "0.08507089241034195\n",
      "['Nakuru' 'Nairobi']\n",
      "---------\n",
      "0.08507089241034195\n",
      "['Nakuru' 'Nairobi']\n",
      "---------\n",
      "0.43369474562135113\n",
      "0.44662218515429525\n",
      "0.45663052543786486\n",
      "0.4599666388657214\n",
      "0.46246872393661387\n",
      "0.4628857381150959\n",
      "0.463302752293578\n",
      "0.46497080900750626\n",
      "0.4708090075062552\n",
      "0.4962468723936614\n",
      "0.5095913261050876\n",
      "0.548790658882402\n",
      "0.5512927439532944\n",
      "0.5587989991659716\n",
      "['Fuyu' 'Honggang' 'Shuangcheng' 'Hulan' 'Zhaodong' 'Qianguo' 'Longfeng'\n",
      " 'Harbin' 'Anda']\n",
      "---------\n",
      "0.5587989991659716\n",
      "['Fuyu' 'Honggang' 'Shuangcheng' 'Hulan' 'Zhaodong' 'Qianguo' 'Longfeng'\n",
      " 'Harbin' 'Anda']\n",
      "---------\n",
      "0.5587989991659716\n",
      "['Fuyu' 'Honggang' 'Shuangcheng' 'Hulan' 'Zhaodong' 'Qianguo' 'Longfeng'\n",
      " 'Harbin' 'Anda']\n",
      "---------\n",
      "0.5587989991659716\n",
      "['Fuyu' 'Honggang' 'Shuangcheng' 'Hulan' 'Zhaodong' 'Qianguo' 'Longfeng'\n",
      " 'Harbin' 'Anda']\n",
      "---------\n",
      "0.5587989991659716\n",
      "['Fuyu' 'Honggang' 'Shuangcheng' 'Hulan' 'Zhaodong' 'Qianguo' 'Longfeng'\n",
      " 'Harbin' 'Anda']\n",
      "---------\n",
      "0.5587989991659716\n",
      "['Fuyu' 'Honggang' 'Shuangcheng' 'Hulan' 'Zhaodong' 'Qianguo' 'Longfeng'\n",
      " 'Harbin' 'Anda']\n",
      "---------\n",
      "0.5587989991659716\n",
      "['Fuyu' 'Honggang' 'Shuangcheng' 'Hulan' 'Zhaodong' 'Qianguo' 'Longfeng'\n",
      " 'Harbin' 'Anda']\n",
      "---------\n",
      "0.5587989991659716\n",
      "['Fuyu' 'Honggang' 'Shuangcheng' 'Hulan' 'Zhaodong' 'Qianguo' 'Longfeng'\n",
      " 'Harbin' 'Anda']\n",
      "---------\n",
      "0.5587989991659716\n",
      "['Fuyu' 'Honggang' 'Shuangcheng' 'Hulan' 'Zhaodong' 'Qianguo' 'Longfeng'\n",
      " 'Harbin' 'Anda']\n",
      "---------\n",
      "0.5613010842368641\n",
      "0.5638031693077564\n",
      "['Hailun' 'Suihua' 'Beian']\n",
      "---------\n",
      "0.5638031693077564\n",
      "['Hailun' 'Suihua' 'Beian']\n",
      "---------\n",
      "0.5638031693077564\n",
      "['Hailun' 'Suihua' 'Beian']\n",
      "---------\n",
      "0.5654712260216848\n",
      "['Nancha' 'Tieli']\n",
      "---------\n"
     ]
    }
   ],
   "source": [
    "# there is still some problems with the data as it seems that all indian cities are alike: \n",
    "# I test it as follows: \n",
    "\n",
    "#just for 100 first :\n",
    "for i in f[0:30]:\n",
    "    print(i)\n",
    "    sit = df_final[(df_final.val > i-.00000001) & (df_final.val < i+.00000001)].City.values\n",
    "    if len(sit)>1:\n",
    "    \n",
    "        print(sit)\n",
    "        print('---------')"
   ]
  },
  {
   "cell_type": "markdown",
   "metadata": {},
   "source": [
    "### that must be usuall because they are cities near to each other and show the same warming trends. \n"
   ]
  },
  {
   "cell_type": "code",
   "execution_count": null,
   "metadata": {},
   "outputs": [],
   "source": []
  },
  {
   "cell_type": "code",
   "execution_count": 142,
   "metadata": {},
   "outputs": [
    {
     "data": {
      "text/html": [
       "<div>\n",
       "<style scoped>\n",
       "    .dataframe tbody tr th:only-of-type {\n",
       "        vertical-align: middle;\n",
       "    }\n",
       "\n",
       "    .dataframe tbody tr th {\n",
       "        vertical-align: top;\n",
       "    }\n",
       "\n",
       "    .dataframe thead th {\n",
       "        text-align: right;\n",
       "    }\n",
       "</style>\n",
       "<table border=\"1\" class=\"dataframe\">\n",
       "  <thead>\n",
       "    <tr style=\"text-align: right;\">\n",
       "      <th></th>\n",
       "      <th>City</th>\n",
       "      <th>val</th>\n",
       "      <th>lon</th>\n",
       "      <th>lat</th>\n",
       "    </tr>\n",
       "  </thead>\n",
       "  <tbody>\n",
       "    <tr>\n",
       "      <th>0</th>\n",
       "      <td>Dasoguz</td>\n",
       "      <td>0.635530</td>\n",
       "      <td>59.64E</td>\n",
       "      <td>40.99N</td>\n",
       "    </tr>\n",
       "    <tr>\n",
       "      <th>1</th>\n",
       "      <td>Boma</td>\n",
       "      <td>0.916597</td>\n",
       "      <td>12.91E</td>\n",
       "      <td>5.63S</td>\n",
       "    </tr>\n",
       "    <tr>\n",
       "      <th>2</th>\n",
       "      <td>Darjiling</td>\n",
       "      <td>0.916597</td>\n",
       "      <td>87.76E</td>\n",
       "      <td>26.52N</td>\n",
       "    </tr>\n",
       "    <tr>\n",
       "      <th>3</th>\n",
       "      <td>Montevideo</td>\n",
       "      <td>0.916597</td>\n",
       "      <td>56.43W</td>\n",
       "      <td>34.56S</td>\n",
       "    </tr>\n",
       "    <tr>\n",
       "      <th>4</th>\n",
       "      <td>Khoy</td>\n",
       "      <td>0.906589</td>\n",
       "      <td>44.75E</td>\n",
       "      <td>37.78N</td>\n",
       "    </tr>\n",
       "  </tbody>\n",
       "</table>\n",
       "</div>"
      ],
      "text/plain": [
       "         City       val     lon     lat\n",
       "0     Dasoguz  0.635530  59.64E  40.99N\n",
       "1        Boma  0.916597  12.91E   5.63S\n",
       "2   Darjiling  0.916597  87.76E  26.52N\n",
       "3  Montevideo  0.916597  56.43W  34.56S\n",
       "4        Khoy  0.906589  44.75E  37.78N"
      ]
     },
     "execution_count": 142,
     "metadata": {},
     "output_type": "execute_result"
    }
   ],
   "source": [
    "df_final.head()"
   ]
  },
  {
   "cell_type": "markdown",
   "metadata": {},
   "source": [
    "## Now is time for the map plots \n"
   ]
  },
  {
   "cell_type": "code",
   "execution_count": null,
   "metadata": {},
   "outputs": [],
   "source": []
  },
  {
   "cell_type": "code",
   "execution_count": null,
   "metadata": {},
   "outputs": [],
   "source": []
  }
 ],
 "metadata": {
  "kernelspec": {
   "display_name": "Python [conda env:root] *",
   "language": "python",
   "name": "conda-root-py"
  },
  "language_info": {
   "codemirror_mode": {
    "name": "ipython",
    "version": 3
   },
   "file_extension": ".py",
   "mimetype": "text/x-python",
   "name": "python",
   "nbconvert_exporter": "python",
   "pygments_lexer": "ipython3",
   "version": "3.7.6"
  }
 },
 "nbformat": 4,
 "nbformat_minor": 4
}
